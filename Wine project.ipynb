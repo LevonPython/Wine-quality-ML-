{
 "cells": [
  {
   "cell_type": "markdown",
   "metadata": {},
   "source": [
    "# Predicting Wine Quality using Wine Quality Dataset\n",
    "It’s a well-established fact that age makes wine better – the older the wine, the better it will taste. However, age is not the only thing that determines a wine’s taste. Numerous factors determine the wine quality certification, including physicochemical tests such as alcohol quantity, fixed acidity, volatile acidity, density, and pH level, to name a few. \n",
    "In this ML project, you need to develop an ML model that can explore a wine’s chemical properties to predict its quality. The wine quality dataset you’ll be using for this project consists of approximately 4898 observations, including 11 independent variables and one dependent variable. Mentioning Machine Learning projects for the final year can help your resume look much more interesting than others.\n"
   ]
  },
  {
   "cell_type": "markdown",
   "metadata": {},
   "source": [
    "### The requirements for the project are\n",
    " \n",
    "Explain feature engineering\n",
    " Trying cross validation and Hyperparameters tuning will be a plus.\n",
    " Try at least 2 models and prepare the report with the performance comparison and reasoning why one is better than another."
   ]
  },
  {
   "cell_type": "markdown",
   "metadata": {},
   "source": [
    "### Our goals for this notebook:\n",
    "\n",
    "Part 1: Exploratory Data Analysis\n",
    "understand the data by EDA and derive simple models with Pandas as baseline\n",
    "\n",
    "Part 2: Data wrangling\n",
    "fill nan, convert categorical to numerical,\n",
    "create train and test data for ML algorithms\n",
    "\n",
    "Part 3: Scikit-learn basic ML algorithms\n",
    "implement different Classifiers from the sklearn library:\n",
    "Logistic regression, Gaussian naive Bayes, KNN, Decision tree, Random forest, SVM\n",
    "\n",
    "Part 3: Comparison of Model results\n",
    "use metrics like confusion_matrix, classification_report, accuracy_score\n",
    "and implement k fold cross validation for comparison of test score"
   ]
  },
  {
   "cell_type": "markdown",
   "metadata": {},
   "source": [
    "#### imports"
   ]
  },
  {
   "cell_type": "code",
   "execution_count": 30,
   "metadata": {},
   "outputs": [],
   "source": [
    "import pandas as pd\n",
    "from sklearn.model_selection import train_test_split\n",
    "import matplotlib.pyplot as plt\n",
    "import seaborn as sns"
   ]
  },
  {
   "cell_type": "markdown",
   "metadata": {},
   "source": [
    "## Part 1: Exploratory Data Analysis"
   ]
  },
  {
   "cell_type": "code",
   "execution_count": 10,
   "metadata": {},
   "outputs": [
    {
     "data": {
      "text/html": [
       "<div>\n",
       "<style scoped>\n",
       "    .dataframe tbody tr th:only-of-type {\n",
       "        vertical-align: middle;\n",
       "    }\n",
       "\n",
       "    .dataframe tbody tr th {\n",
       "        vertical-align: top;\n",
       "    }\n",
       "\n",
       "    .dataframe thead th {\n",
       "        text-align: right;\n",
       "    }\n",
       "</style>\n",
       "<table border=\"1\" class=\"dataframe\">\n",
       "  <thead>\n",
       "    <tr style=\"text-align: right;\">\n",
       "      <th></th>\n",
       "      <th>type</th>\n",
       "      <th>fixed acidity</th>\n",
       "      <th>volatile acidity</th>\n",
       "      <th>citric acid</th>\n",
       "      <th>residual sugar</th>\n",
       "      <th>chlorides</th>\n",
       "      <th>free sulfur dioxide</th>\n",
       "      <th>total sulfur dioxide</th>\n",
       "      <th>density</th>\n",
       "      <th>pH</th>\n",
       "      <th>sulphates</th>\n",
       "      <th>alcohol</th>\n",
       "      <th>quality</th>\n",
       "    </tr>\n",
       "  </thead>\n",
       "  <tbody>\n",
       "    <tr>\n",
       "      <th>0</th>\n",
       "      <td>white</td>\n",
       "      <td>7.0</td>\n",
       "      <td>0.27</td>\n",
       "      <td>0.36</td>\n",
       "      <td>20.7</td>\n",
       "      <td>0.045</td>\n",
       "      <td>45.0</td>\n",
       "      <td>170.0</td>\n",
       "      <td>1.0010</td>\n",
       "      <td>3.00</td>\n",
       "      <td>0.45</td>\n",
       "      <td>8.8</td>\n",
       "      <td>6</td>\n",
       "    </tr>\n",
       "    <tr>\n",
       "      <th>1</th>\n",
       "      <td>white</td>\n",
       "      <td>6.3</td>\n",
       "      <td>0.30</td>\n",
       "      <td>0.34</td>\n",
       "      <td>1.6</td>\n",
       "      <td>0.049</td>\n",
       "      <td>14.0</td>\n",
       "      <td>132.0</td>\n",
       "      <td>0.9940</td>\n",
       "      <td>3.30</td>\n",
       "      <td>0.49</td>\n",
       "      <td>9.5</td>\n",
       "      <td>6</td>\n",
       "    </tr>\n",
       "    <tr>\n",
       "      <th>2</th>\n",
       "      <td>white</td>\n",
       "      <td>8.1</td>\n",
       "      <td>0.28</td>\n",
       "      <td>0.40</td>\n",
       "      <td>6.9</td>\n",
       "      <td>0.050</td>\n",
       "      <td>30.0</td>\n",
       "      <td>97.0</td>\n",
       "      <td>0.9951</td>\n",
       "      <td>3.26</td>\n",
       "      <td>0.44</td>\n",
       "      <td>10.1</td>\n",
       "      <td>6</td>\n",
       "    </tr>\n",
       "    <tr>\n",
       "      <th>3</th>\n",
       "      <td>white</td>\n",
       "      <td>7.2</td>\n",
       "      <td>0.23</td>\n",
       "      <td>0.32</td>\n",
       "      <td>8.5</td>\n",
       "      <td>0.058</td>\n",
       "      <td>47.0</td>\n",
       "      <td>186.0</td>\n",
       "      <td>0.9956</td>\n",
       "      <td>3.19</td>\n",
       "      <td>0.40</td>\n",
       "      <td>9.9</td>\n",
       "      <td>6</td>\n",
       "    </tr>\n",
       "    <tr>\n",
       "      <th>4</th>\n",
       "      <td>white</td>\n",
       "      <td>7.2</td>\n",
       "      <td>0.23</td>\n",
       "      <td>0.32</td>\n",
       "      <td>8.5</td>\n",
       "      <td>0.058</td>\n",
       "      <td>47.0</td>\n",
       "      <td>186.0</td>\n",
       "      <td>0.9956</td>\n",
       "      <td>3.19</td>\n",
       "      <td>0.40</td>\n",
       "      <td>9.9</td>\n",
       "      <td>6</td>\n",
       "    </tr>\n",
       "  </tbody>\n",
       "</table>\n",
       "</div>"
      ],
      "text/plain": [
       "    type  fixed acidity  volatile acidity  citric acid  residual sugar  \\\n",
       "0  white            7.0              0.27         0.36            20.7   \n",
       "1  white            6.3              0.30         0.34             1.6   \n",
       "2  white            8.1              0.28         0.40             6.9   \n",
       "3  white            7.2              0.23         0.32             8.5   \n",
       "4  white            7.2              0.23         0.32             8.5   \n",
       "\n",
       "   chlorides  free sulfur dioxide  total sulfur dioxide  density    pH  \\\n",
       "0      0.045                 45.0                 170.0   1.0010  3.00   \n",
       "1      0.049                 14.0                 132.0   0.9940  3.30   \n",
       "2      0.050                 30.0                  97.0   0.9951  3.26   \n",
       "3      0.058                 47.0                 186.0   0.9956  3.19   \n",
       "4      0.058                 47.0                 186.0   0.9956  3.19   \n",
       "\n",
       "   sulphates  alcohol  quality  \n",
       "0       0.45      8.8        6  \n",
       "1       0.49      9.5        6  \n",
       "2       0.44     10.1        6  \n",
       "3       0.40      9.9        6  \n",
       "4       0.40      9.9        6  "
      ]
     },
     "execution_count": 10,
     "metadata": {},
     "output_type": "execute_result"
    }
   ],
   "source": [
    "df = pd.read_csv('winequalityN.csv')\n",
    "df.head()"
   ]
  },
  {
   "cell_type": "code",
   "execution_count": 6,
   "metadata": {},
   "outputs": [
    {
     "data": {
      "text/html": [
       "<div>\n",
       "<style scoped>\n",
       "    .dataframe tbody tr th:only-of-type {\n",
       "        vertical-align: middle;\n",
       "    }\n",
       "\n",
       "    .dataframe tbody tr th {\n",
       "        vertical-align: top;\n",
       "    }\n",
       "\n",
       "    .dataframe thead th {\n",
       "        text-align: right;\n",
       "    }\n",
       "</style>\n",
       "<table border=\"1\" class=\"dataframe\">\n",
       "  <thead>\n",
       "    <tr style=\"text-align: right;\">\n",
       "      <th></th>\n",
       "      <th>fixed acidity</th>\n",
       "      <th>volatile acidity</th>\n",
       "      <th>citric acid</th>\n",
       "      <th>residual sugar</th>\n",
       "      <th>chlorides</th>\n",
       "      <th>free sulfur dioxide</th>\n",
       "      <th>total sulfur dioxide</th>\n",
       "      <th>density</th>\n",
       "      <th>pH</th>\n",
       "      <th>sulphates</th>\n",
       "      <th>alcohol</th>\n",
       "      <th>quality</th>\n",
       "    </tr>\n",
       "  </thead>\n",
       "  <tbody>\n",
       "    <tr>\n",
       "      <th>count</th>\n",
       "      <td>6487.000000</td>\n",
       "      <td>6489.000000</td>\n",
       "      <td>6494.000000</td>\n",
       "      <td>6495.000000</td>\n",
       "      <td>6495.000000</td>\n",
       "      <td>6497.000000</td>\n",
       "      <td>6497.000000</td>\n",
       "      <td>6497.000000</td>\n",
       "      <td>6488.000000</td>\n",
       "      <td>6493.000000</td>\n",
       "      <td>6497.000000</td>\n",
       "      <td>6497.000000</td>\n",
       "    </tr>\n",
       "    <tr>\n",
       "      <th>mean</th>\n",
       "      <td>7.216579</td>\n",
       "      <td>0.339691</td>\n",
       "      <td>0.318722</td>\n",
       "      <td>5.444326</td>\n",
       "      <td>0.056042</td>\n",
       "      <td>30.525319</td>\n",
       "      <td>115.744574</td>\n",
       "      <td>0.994697</td>\n",
       "      <td>3.218395</td>\n",
       "      <td>0.531215</td>\n",
       "      <td>10.491801</td>\n",
       "      <td>5.818378</td>\n",
       "    </tr>\n",
       "    <tr>\n",
       "      <th>std</th>\n",
       "      <td>1.296750</td>\n",
       "      <td>0.164649</td>\n",
       "      <td>0.145265</td>\n",
       "      <td>4.758125</td>\n",
       "      <td>0.035036</td>\n",
       "      <td>17.749400</td>\n",
       "      <td>56.521855</td>\n",
       "      <td>0.002999</td>\n",
       "      <td>0.160748</td>\n",
       "      <td>0.148814</td>\n",
       "      <td>1.192712</td>\n",
       "      <td>0.873255</td>\n",
       "    </tr>\n",
       "    <tr>\n",
       "      <th>min</th>\n",
       "      <td>3.800000</td>\n",
       "      <td>0.080000</td>\n",
       "      <td>0.000000</td>\n",
       "      <td>0.600000</td>\n",
       "      <td>0.009000</td>\n",
       "      <td>1.000000</td>\n",
       "      <td>6.000000</td>\n",
       "      <td>0.987110</td>\n",
       "      <td>2.720000</td>\n",
       "      <td>0.220000</td>\n",
       "      <td>8.000000</td>\n",
       "      <td>3.000000</td>\n",
       "    </tr>\n",
       "    <tr>\n",
       "      <th>25%</th>\n",
       "      <td>6.400000</td>\n",
       "      <td>0.230000</td>\n",
       "      <td>0.250000</td>\n",
       "      <td>1.800000</td>\n",
       "      <td>0.038000</td>\n",
       "      <td>17.000000</td>\n",
       "      <td>77.000000</td>\n",
       "      <td>0.992340</td>\n",
       "      <td>3.110000</td>\n",
       "      <td>0.430000</td>\n",
       "      <td>9.500000</td>\n",
       "      <td>5.000000</td>\n",
       "    </tr>\n",
       "    <tr>\n",
       "      <th>50%</th>\n",
       "      <td>7.000000</td>\n",
       "      <td>0.290000</td>\n",
       "      <td>0.310000</td>\n",
       "      <td>3.000000</td>\n",
       "      <td>0.047000</td>\n",
       "      <td>29.000000</td>\n",
       "      <td>118.000000</td>\n",
       "      <td>0.994890</td>\n",
       "      <td>3.210000</td>\n",
       "      <td>0.510000</td>\n",
       "      <td>10.300000</td>\n",
       "      <td>6.000000</td>\n",
       "    </tr>\n",
       "    <tr>\n",
       "      <th>75%</th>\n",
       "      <td>7.700000</td>\n",
       "      <td>0.400000</td>\n",
       "      <td>0.390000</td>\n",
       "      <td>8.100000</td>\n",
       "      <td>0.065000</td>\n",
       "      <td>41.000000</td>\n",
       "      <td>156.000000</td>\n",
       "      <td>0.996990</td>\n",
       "      <td>3.320000</td>\n",
       "      <td>0.600000</td>\n",
       "      <td>11.300000</td>\n",
       "      <td>6.000000</td>\n",
       "    </tr>\n",
       "    <tr>\n",
       "      <th>max</th>\n",
       "      <td>15.900000</td>\n",
       "      <td>1.580000</td>\n",
       "      <td>1.660000</td>\n",
       "      <td>65.800000</td>\n",
       "      <td>0.611000</td>\n",
       "      <td>289.000000</td>\n",
       "      <td>440.000000</td>\n",
       "      <td>1.038980</td>\n",
       "      <td>4.010000</td>\n",
       "      <td>2.000000</td>\n",
       "      <td>14.900000</td>\n",
       "      <td>9.000000</td>\n",
       "    </tr>\n",
       "  </tbody>\n",
       "</table>\n",
       "</div>"
      ],
      "text/plain": [
       "       fixed acidity  volatile acidity  citric acid  residual sugar  \\\n",
       "count    6487.000000       6489.000000  6494.000000     6495.000000   \n",
       "mean        7.216579          0.339691     0.318722        5.444326   \n",
       "std         1.296750          0.164649     0.145265        4.758125   \n",
       "min         3.800000          0.080000     0.000000        0.600000   \n",
       "25%         6.400000          0.230000     0.250000        1.800000   \n",
       "50%         7.000000          0.290000     0.310000        3.000000   \n",
       "75%         7.700000          0.400000     0.390000        8.100000   \n",
       "max        15.900000          1.580000     1.660000       65.800000   \n",
       "\n",
       "         chlorides  free sulfur dioxide  total sulfur dioxide      density  \\\n",
       "count  6495.000000          6497.000000           6497.000000  6497.000000   \n",
       "mean      0.056042            30.525319            115.744574     0.994697   \n",
       "std       0.035036            17.749400             56.521855     0.002999   \n",
       "min       0.009000             1.000000              6.000000     0.987110   \n",
       "25%       0.038000            17.000000             77.000000     0.992340   \n",
       "50%       0.047000            29.000000            118.000000     0.994890   \n",
       "75%       0.065000            41.000000            156.000000     0.996990   \n",
       "max       0.611000           289.000000            440.000000     1.038980   \n",
       "\n",
       "                pH    sulphates      alcohol      quality  \n",
       "count  6488.000000  6493.000000  6497.000000  6497.000000  \n",
       "mean      3.218395     0.531215    10.491801     5.818378  \n",
       "std       0.160748     0.148814     1.192712     0.873255  \n",
       "min       2.720000     0.220000     8.000000     3.000000  \n",
       "25%       3.110000     0.430000     9.500000     5.000000  \n",
       "50%       3.210000     0.510000    10.300000     6.000000  \n",
       "75%       3.320000     0.600000    11.300000     6.000000  \n",
       "max       4.010000     2.000000    14.900000     9.000000  "
      ]
     },
     "execution_count": 6,
     "metadata": {},
     "output_type": "execute_result"
    }
   ],
   "source": [
    "df.describe()"
   ]
  },
  {
   "cell_type": "code",
   "execution_count": 9,
   "metadata": {},
   "outputs": [
    {
     "name": "stdout",
     "output_type": "stream",
     "text": [
      "<class 'pandas.core.frame.DataFrame'>\n",
      "RangeIndex: 6497 entries, 0 to 6496\n",
      "Data columns (total 13 columns):\n",
      " #   Column                Non-Null Count  Dtype  \n",
      "---  ------                --------------  -----  \n",
      " 0   type                  6497 non-null   object \n",
      " 1   fixed acidity         6487 non-null   float64\n",
      " 2   volatile acidity      6489 non-null   float64\n",
      " 3   citric acid           6494 non-null   float64\n",
      " 4   residual sugar        6495 non-null   float64\n",
      " 5   chlorides             6495 non-null   float64\n",
      " 6   free sulfur dioxide   6497 non-null   float64\n",
      " 7   total sulfur dioxide  6497 non-null   float64\n",
      " 8   density               6497 non-null   float64\n",
      " 9   pH                    6488 non-null   float64\n",
      " 10  sulphates             6493 non-null   float64\n",
      " 11  alcohol               6497 non-null   float64\n",
      " 12  quality               6497 non-null   int64  \n",
      "dtypes: float64(11), int64(1), object(1)\n",
      "memory usage: 660.0+ KB\n"
     ]
    }
   ],
   "source": [
    "df.info()"
   ]
  },
  {
   "cell_type": "code",
   "execution_count": 19,
   "metadata": {},
   "outputs": [],
   "source": [
    "# split data to train and test\n",
    "y = df['quality']\n",
    "X_train, X_test, y_train, y_test = train_test_split(df, y, test_size=0.2, random_state=1)"
   ]
  },
  {
   "cell_type": "code",
   "execution_count": null,
   "metadata": {},
   "outputs": [],
   "source": []
  },
  {
   "cell_type": "code",
   "execution_count": 28,
   "metadata": {},
   "outputs": [
    {
     "data": {
      "text/plain": [
       "Text(11.625, 0.5, 'residual sugar')"
      ]
     },
     "execution_count": 28,
     "metadata": {},
     "output_type": "execute_result"
    },
    {
     "data": {
      "image/png": "[encoded data removed]",
      "text/plain": [
       "<Figure size 360x720 with 5 Axes>"
      ]
     },
     "metadata": {
      "needs_background": "light"
     },
     "output_type": "display_data"
    }
   ],
   "source": [
    "fig, axs = plt.subplots(5, 1)\n",
    "fig.set_figwidth(5)\n",
    "fig.set_figheight(10)\n",
    "fig.tight_layout(h_pad = 5)\n",
    "\n",
    "axs[0].scatter(df['quality'], df['type'])\n",
    "axs[0].set_xlabel('quality')\n",
    "axs[0].set_ylabel('type')\n",
    "\n",
    "axs[1].scatter(df['quality'], df['fixed acidity'])\n",
    "axs[1].set_xlabel('quality')\n",
    "axs[1].set_ylabel('fixed acidity')\n",
    "\n",
    "axs[2].scatter(df['quality'], df['volatile acidity'])\n",
    "axs[2].set_xlabel('quality')\n",
    "axs[2].set_ylabel('volatile acidity')\n",
    "\n",
    "axs[3].scatter(df['quality'], df['citric acid'])\n",
    "axs[3].set_xlabel('quality')\n",
    "axs[3].set_ylabel('citric acid')\n",
    "\n",
    "axs[4].scatter(df['quality'], df['residual sugar'])\n",
    "axs[4].set_xlabel('quality')\n",
    "axs[4].set_ylabel('residual sugar')\n"
   ]
  },
  {
   "cell_type": "markdown",
   "metadata": {},
   "source": [
    "#### Of all wine types in dataset how is quality distributed?"
   ]
  },
  {
   "cell_type": "markdown",
   "metadata": {},
   "source": [
    "main wine types are distributed between 5 and 7  qualities"
   ]
  },
  {
   "cell_type": "code",
   "execution_count": 32,
   "metadata": {},
   "outputs": [
    {
     "data": {
      "image/png": "[encoded data removed]",
      "text/plain": [
       "<Figure size 432x288 with 1 Axes>"
      ]
     },
     "metadata": {
      "needs_background": "light"
     },
     "output_type": "display_data"
    }
   ],
   "source": [
    "sns.countplot(x='quality', data=df);"
   ]
  },
  {
   "cell_type": "markdown",
   "metadata": {},
   "source": [
    "Share of 6 quality is 43%"
   ]
  },
  {
   "cell_type": "code",
   "execution_count": 50,
   "metadata": {},
   "outputs": [
    {
     "name": "stdout",
     "output_type": "stream",
     "text": [
      "type                    0.436509\n",
      "fixed acidity           0.435893\n",
      "volatile acidity        0.435893\n",
      "citric acid             0.436201\n",
      "residual sugar          0.436355\n",
      "chlorides               0.436355\n",
      "free sulfur dioxide     0.436509\n",
      "total sulfur dioxide    0.436509\n",
      "density                 0.436509\n",
      "pH                      0.435893\n",
      "sulphates               0.436201\n",
      "alcohol                 0.436509\n",
      "quality                 0.436509\n",
      "dtype: float64\n"
     ]
    }
   ],
   "source": [
    "print(df[df['quality'] == 6].count()/len(df))"
   ]
  },
  {
   "cell_type": "markdown",
   "metadata": {},
   "source": [
    "### Check the correlation between quality and wine types"
   ]
  },
  {
   "cell_type": "code",
   "execution_count": 52,
   "metadata": {},
   "outputs": [
    {
     "data": {
      "text/plain": [
       "quality  type \n",
       "3        red        10\n",
       "         white      20\n",
       "4        red        53\n",
       "         white     163\n",
       "5        red       681\n",
       "         white    1457\n",
       "6        red       638\n",
       "         white    2198\n",
       "7        red       199\n",
       "         white     880\n",
       "8        red        18\n",
       "         white     175\n",
       "9        white       5\n",
       "Name: quality, dtype: int64"
      ]
     },
     "execution_count": 52,
     "metadata": {},
     "output_type": "execute_result"
    }
   ],
   "source": [
    "df.groupby(['quality', 'type'])['quality'].count()"
   ]
  },
  {
   "cell_type": "markdown",
   "metadata": {},
   "source": [
    "share of white wines is 75%"
   ]
  },
  {
   "cell_type": "code",
   "execution_count": 70,
   "metadata": {},
   "outputs": [
    {
     "data": {
      "text/plain": [
       "count      6497\n",
       "unique        2\n",
       "top       white\n",
       "freq       4898\n",
       "Name: type, dtype: object"
      ]
     },
     "execution_count": 70,
     "metadata": {},
     "output_type": "execute_result"
    }
   ],
   "source": [
    "df['type'].describe()"
   ]
  },
  {
   "cell_type": "code",
   "execution_count": 62,
   "metadata": {},
   "outputs": [
    {
     "data": {
      "image/png": "[encoded data removed]",
      "text/plain": [
       "<Figure size 2520x360 with 7 Axes>"
      ]
     },
     "metadata": {
      "needs_background": "light"
     },
     "output_type": "display_data"
    }
   ],
   "source": [
    "sns.catplot(x='type', col='quality', kind='count', data=df);\n",
    "# share of white wine types is quite higher than red wine types"
   ]
  },
  {
   "cell_type": "code",
   "execution_count": 79,
   "metadata": {},
   "outputs": [
    {
     "name": "stdout",
     "output_type": "stream",
     "text": [
      "Mean of white wine type's quality is: 5.87790935075541\n",
      "Mean of red wine type's quality is: 5.6360225140712945\n"
     ]
    }
   ],
   "source": [
    "m_white = df[df['type']=='white']['quality'].mean() \n",
    "# the same result: df.loc[(df['type']=='white'), 'quality'].mean() \n",
    "m_red = df[df['type']=='red']['quality'].mean()\n",
    "print(f\"Mean of white wine type's quality is: {m_white}\")\n",
    "print(f\"Mean of red wine type's quality is: {m_red}\")"
   ]
  },
  {
   "cell_type": "code",
   "execution_count": null,
   "metadata": {},
   "outputs": [],
   "source": []
  },
  {
   "cell_type": "markdown",
   "metadata": {},
   "source": [
    "#### It seems quality of white wines is higher than red"
   ]
  },
  {
   "cell_type": "code",
   "execution_count": 80,
   "metadata": {},
   "outputs": [
    {
     "data": {
      "text/html": [
       "<style  type=\"text/css\" >\n",
       "#T_11c95f7f_a36b_11eb_b80f_a8a1595710d2row0_col0,#T_11c95f7f_a36b_11eb_b80f_a8a1595710d2row0_col1,#T_11c95f7f_a36b_11eb_b80f_a8a1595710d2row0_col2,#T_11c95f7f_a36b_11eb_b80f_a8a1595710d2row0_col3,#T_11c95f7f_a36b_11eb_b80f_a8a1595710d2row0_col4,#T_11c95f7f_a36b_11eb_b80f_a8a1595710d2row0_col5,#T_11c95f7f_a36b_11eb_b80f_a8a1595710d2row0_col6,#T_11c95f7f_a36b_11eb_b80f_a8a1595710d2row0_col7{\n",
       "            background-color:  #ffff00;\n",
       "            color:  #000000;\n",
       "        }#T_11c95f7f_a36b_11eb_b80f_a8a1595710d2row1_col0{\n",
       "            background-color:  #ff7f00;\n",
       "            color:  #000000;\n",
       "        }#T_11c95f7f_a36b_11eb_b80f_a8a1595710d2row1_col1,#T_11c95f7f_a36b_11eb_b80f_a8a1595710d2row1_col7{\n",
       "            background-color:  #ff5300;\n",
       "            color:  #000000;\n",
       "        }#T_11c95f7f_a36b_11eb_b80f_a8a1595710d2row1_col2{\n",
       "            background-color:  #ff7700;\n",
       "            color:  #000000;\n",
       "        }#T_11c95f7f_a36b_11eb_b80f_a8a1595710d2row1_col3{\n",
       "            background-color:  #ff4a00;\n",
       "            color:  #000000;\n",
       "        }#T_11c95f7f_a36b_11eb_b80f_a8a1595710d2row1_col4{\n",
       "            background-color:  #ff3900;\n",
       "            color:  #f1f1f1;\n",
       "        }#T_11c95f7f_a36b_11eb_b80f_a8a1595710d2row1_col5{\n",
       "            background-color:  #ff1a00;\n",
       "            color:  #f1f1f1;\n",
       "        }#T_11c95f7f_a36b_11eb_b80f_a8a1595710d2row1_col6,#T_11c95f7f_a36b_11eb_b80f_a8a1595710d2row2_col0,#T_11c95f7f_a36b_11eb_b80f_a8a1595710d2row2_col1,#T_11c95f7f_a36b_11eb_b80f_a8a1595710d2row2_col2,#T_11c95f7f_a36b_11eb_b80f_a8a1595710d2row2_col3,#T_11c95f7f_a36b_11eb_b80f_a8a1595710d2row2_col4,#T_11c95f7f_a36b_11eb_b80f_a8a1595710d2row2_col5,#T_11c95f7f_a36b_11eb_b80f_a8a1595710d2row2_col6,#T_11c95f7f_a36b_11eb_b80f_a8a1595710d2row2_col7{\n",
       "            background-color:  #ff0000;\n",
       "            color:  #f1f1f1;\n",
       "        }</style><table id=\"T_11c95f7f_a36b_11eb_b80f_a8a1595710d2\" ><thead>    <tr>        <th class=\"index_name level0\" >quality</th>        <th class=\"col_heading level0 col0\" >3</th>        <th class=\"col_heading level0 col1\" >4</th>        <th class=\"col_heading level0 col2\" >5</th>        <th class=\"col_heading level0 col3\" >6</th>        <th class=\"col_heading level0 col4\" >7</th>        <th class=\"col_heading level0 col5\" >8</th>        <th class=\"col_heading level0 col6\" >9</th>        <th class=\"col_heading level0 col7\" >All</th>    </tr>    <tr>        <th class=\"index_name level0\" >type</th>        <th class=\"blank\" ></th>        <th class=\"blank\" ></th>        <th class=\"blank\" ></th>        <th class=\"blank\" ></th>        <th class=\"blank\" ></th>        <th class=\"blank\" ></th>        <th class=\"blank\" ></th>        <th class=\"blank\" ></th>    </tr></thead><tbody>\n",
       "                <tr>\n",
       "                        <th id=\"T_11c95f7f_a36b_11eb_b80f_a8a1595710d2level0_row0\" class=\"row_heading level0 row0\" >red</th>\n",
       "                        <td id=\"T_11c95f7f_a36b_11eb_b80f_a8a1595710d2row0_col0\" class=\"data row0 col0\" >10</td>\n",
       "                        <td id=\"T_11c95f7f_a36b_11eb_b80f_a8a1595710d2row0_col1\" class=\"data row0 col1\" >53</td>\n",
       "                        <td id=\"T_11c95f7f_a36b_11eb_b80f_a8a1595710d2row0_col2\" class=\"data row0 col2\" >681</td>\n",
       "                        <td id=\"T_11c95f7f_a36b_11eb_b80f_a8a1595710d2row0_col3\" class=\"data row0 col3\" >638</td>\n",
       "                        <td id=\"T_11c95f7f_a36b_11eb_b80f_a8a1595710d2row0_col4\" class=\"data row0 col4\" >199</td>\n",
       "                        <td id=\"T_11c95f7f_a36b_11eb_b80f_a8a1595710d2row0_col5\" class=\"data row0 col5\" >18</td>\n",
       "                        <td id=\"T_11c95f7f_a36b_11eb_b80f_a8a1595710d2row0_col6\" class=\"data row0 col6\" >0</td>\n",
       "                        <td id=\"T_11c95f7f_a36b_11eb_b80f_a8a1595710d2row0_col7\" class=\"data row0 col7\" >1599</td>\n",
       "            </tr>\n",
       "            <tr>\n",
       "                        <th id=\"T_11c95f7f_a36b_11eb_b80f_a8a1595710d2level0_row1\" class=\"row_heading level0 row1\" >white</th>\n",
       "                        <td id=\"T_11c95f7f_a36b_11eb_b80f_a8a1595710d2row1_col0\" class=\"data row1 col0\" >20</td>\n",
       "                        <td id=\"T_11c95f7f_a36b_11eb_b80f_a8a1595710d2row1_col1\" class=\"data row1 col1\" >163</td>\n",
       "                        <td id=\"T_11c95f7f_a36b_11eb_b80f_a8a1595710d2row1_col2\" class=\"data row1 col2\" >1457</td>\n",
       "                        <td id=\"T_11c95f7f_a36b_11eb_b80f_a8a1595710d2row1_col3\" class=\"data row1 col3\" >2198</td>\n",
       "                        <td id=\"T_11c95f7f_a36b_11eb_b80f_a8a1595710d2row1_col4\" class=\"data row1 col4\" >880</td>\n",
       "                        <td id=\"T_11c95f7f_a36b_11eb_b80f_a8a1595710d2row1_col5\" class=\"data row1 col5\" >175</td>\n",
       "                        <td id=\"T_11c95f7f_a36b_11eb_b80f_a8a1595710d2row1_col6\" class=\"data row1 col6\" >5</td>\n",
       "                        <td id=\"T_11c95f7f_a36b_11eb_b80f_a8a1595710d2row1_col7\" class=\"data row1 col7\" >4898</td>\n",
       "            </tr>\n",
       "            <tr>\n",
       "                        <th id=\"T_11c95f7f_a36b_11eb_b80f_a8a1595710d2level0_row2\" class=\"row_heading level0 row2\" >All</th>\n",
       "                        <td id=\"T_11c95f7f_a36b_11eb_b80f_a8a1595710d2row2_col0\" class=\"data row2 col0\" >30</td>\n",
       "                        <td id=\"T_11c95f7f_a36b_11eb_b80f_a8a1595710d2row2_col1\" class=\"data row2 col1\" >216</td>\n",
       "                        <td id=\"T_11c95f7f_a36b_11eb_b80f_a8a1595710d2row2_col2\" class=\"data row2 col2\" >2138</td>\n",
       "                        <td id=\"T_11c95f7f_a36b_11eb_b80f_a8a1595710d2row2_col3\" class=\"data row2 col3\" >2836</td>\n",
       "                        <td id=\"T_11c95f7f_a36b_11eb_b80f_a8a1595710d2row2_col4\" class=\"data row2 col4\" >1079</td>\n",
       "                        <td id=\"T_11c95f7f_a36b_11eb_b80f_a8a1595710d2row2_col5\" class=\"data row2 col5\" >193</td>\n",
       "                        <td id=\"T_11c95f7f_a36b_11eb_b80f_a8a1595710d2row2_col6\" class=\"data row2 col6\" >5</td>\n",
       "                        <td id=\"T_11c95f7f_a36b_11eb_b80f_a8a1595710d2row2_col7\" class=\"data row2 col7\" >6497</td>\n",
       "            </tr>\n",
       "    </tbody></table>"
      ],
      "text/plain": [
       "<pandas.io.formats.style.Styler at 0x2122f6c9760>"
      ]
     },
     "execution_count": 80,
     "metadata": {},
     "output_type": "execute_result"
    }
   ],
   "source": [
    "pd.crosstab(df.type, df.quality, margins=True).style.background_gradient(cmap='autumn_r')"
   ]
  },
  {
   "cell_type": "code",
   "execution_count": 81,
   "metadata": {},
   "outputs": [
    {
     "name": "stderr",
     "output_type": "stream",
     "text": [
      "C:\\Users\\levon_y\\Anaconda3\\lib\\site-packages\\seaborn\\_decorators.py:36: FutureWarning: Pass the following variables as keyword args: x, y. From version 0.12, the only valid positional argument will be `data`, and passing other arguments without an explicit keyword will result in an error or misinterpretation.\n",
      "  warnings.warn(\n"
     ]
    },
    {
     "data": {
      "image/png": "[encoded data removed]",
      "text/plain": [
       "<Figure size 360x360 with 1 Axes>"
      ]
     },
     "metadata": {
      "needs_background": "light"
     },
     "output_type": "display_data"
    }
   ],
   "source": [
    "sns.catplot('quality', 'type', kind='point', data=df);"
   ]
  },
  {
   "cell_type": "markdown",
   "metadata": {},
   "source": [
    "### difference of qualities between white and red wines is evident above"
   ]
  },
  {
   "cell_type": "code",
   "execution_count": null,
   "metadata": {},
   "outputs": [],
   "source": []
  }
 ],
 "metadata": {
  "kernelspec": {
   "display_name": "Python 3",
   "language": "python",
   "name": "python3"
  },
  "language_info": {
   "codemirror_mode": {
    "name": "ipython",
    "version": 3
   },
   "file_extension": ".py",
   "mimetype": "text/x-python",
   "name": "python",
   "nbconvert_exporter": "python",
   "pygments_lexer": "ipython3",
   "version": "3.8.5"
  }
 },
 "nbformat": 4,
 "nbformat_minor": 4
}
