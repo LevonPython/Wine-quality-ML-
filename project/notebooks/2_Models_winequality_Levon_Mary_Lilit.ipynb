{
 "cells": [
  {
   "cell_type": "markdown",
   "metadata": {},
   "source": [
    "### Import modules that will be used in process"
   ]
  },
  {
   "cell_type": "code",
   "execution_count": 1,
   "metadata": {},
   "outputs": [],
   "source": [
    "import numpy as np\n",
    "import pandas as pd\n",
    "import matplotlib.pyplot as plt\n",
    "import seaborn as sns\n",
    "import sklearn as sk\n",
    "from sklearn.ensemble import ExtraTreesClassifier\n",
    "%matplotlib inline\n",
    "\n",
    "import plotly.express as px\n",
    "\n",
    "import warnings\n",
    "import matplotlib.cbook\n",
    "# warnings.filterwarnings(\"ignore\",category=matplotlib.cbook.mplDeprecation)\n",
    "# warnings.simplefilter(action='ignore', category=FutureWarning)\n",
    "# from pandas.core.common import SettingWithCopyWarning\n",
    "# warnings.simplefilter(action=\"ignore\", category=SettingWithCopyWarning)\n",
    "warnings.filterwarnings('ignore')\n",
    "\n",
    "\n",
    "from sklearn.model_selection import train_test_split, KFold, cross_val_score, LeaveOneOut\n",
    "from sklearn.preprocessing import StandardScaler, LabelEncoder\n",
    "from sklearn.ensemble import RandomForestClassifier\n",
    "from sklearn.linear_model import LogisticRegression, RidgeClassifier\n",
    "from numpy import mean, std\n",
    "from sklearn import metrics\n",
    "from sklearn.metrics import confusion_matrix\n",
    "from sklearn.metrics import recall_score, precision_score\n",
    "from sklearn.datasets import make_classification\n",
    "from sklearn.metrics import classification_report\n",
    "from sklearn.ensemble import ExtraTreesClassifier"
   ]
  },
  {
   "cell_type": "markdown",
   "metadata": {},
   "source": [
    "### Import data set (csv)"
   ]
  },
  {
   "cell_type": "code",
   "execution_count": 2,
   "metadata": {},
   "outputs": [],
   "source": [
    "dataframe_1 = pd.read_csv('DataFrame_1.csv')\n",
    "dataframe_2 = pd.read_csv('DataFrame_2.csv')\n",
    "dataframe_3 = pd.read_csv('DataFrame_3.csv')\n",
    "dataframe_4 = pd.read_csv('DataFrame_4.csv')"
   ]
  },
  {
   "cell_type": "markdown",
   "metadata": {},
   "source": [
    "# Part 3: Trying cross validation and Hyperparameters"
   ]
  },
  {
   "cell_type": "markdown",
   "metadata": {},
   "source": [
    "# Part 4: Scikit-learn basic ML algorithms implementations\n"
   ]
  },
  {
   "cell_type": "markdown",
   "metadata": {},
   "source": [
    "### Let's choose the features that had correlation to our target varaible: total_acidity, pH, chlorides, sulfates, alcohol"
   ]
  },
  {
   "cell_type": "code",
   "execution_count": 3,
   "metadata": {},
   "outputs": [],
   "source": [
    "df_list = [dataframe_1, dataframe_2, dataframe_3, dataframe_4]"
   ]
  },
  {
   "cell_type": "code",
   "execution_count": 4,
   "metadata": {},
   "outputs": [],
   "source": [
    "for i in range(len(df_list)):\n",
    "    df_red = df_list[i][df_list[i][\"type\"]==\"red\"]\n",
    "    df_red_final = df_red[[\"total_acidity\", \"chlorides\", \"pH\", \"sulphates\", \"alcohol\", \"quality\"]]\n",
    "    df_list[i] = df_red_final"
   ]
  },
  {
   "cell_type": "code",
   "execution_count": 5,
   "metadata": {},
   "outputs": [],
   "source": [
    "def get_dataset(dataframe):\n",
    "    X = dataframe.drop(\"quality\", axis = 1)\n",
    "    y = dataframe[\"quality\"]\n",
    "    X = StandardScaler().fit_transform(X)\n",
    "    return X, y"
   ]
  },
  {
   "cell_type": "code",
   "execution_count": 6,
   "metadata": {},
   "outputs": [
    {
     "name": "stdout",
     "output_type": "stream",
     "text": [
      "Accuracy of dataframe_1 is 0.859375\n",
      "log_reg.intercept_ of dataframe_1 is [-2.53314634]\n",
      "log_reg.coef_ of dataframe_1 is [[ 0.23486527 -0.41247031 -0.19407309  0.5040154   1.22808026]]\n",
      "confusion_matrix of dataframe_1 is [[267  36]\n",
      " [  9   8]]\n",
      "\n",
      "Accuracy of dataframe_2 is 0.8625\n",
      "log_reg.intercept_ of dataframe_2 is [-2.53442252]\n",
      "log_reg.coef_ of dataframe_2 is [[ 0.25676984 -0.4101572  -0.20658691  0.48428313  1.19691143]]\n",
      "confusion_matrix of dataframe_2 is [[266  37]\n",
      " [  7  10]]\n",
      "\n",
      "Accuracy of dataframe_3 is 0.946875\n",
      "log_reg.intercept_ of dataframe_3 is [-0.51908337  3.00170541 -2.48262204]\n",
      "log_reg.coef_ of dataframe_3 is [[ 0.24156955  0.59604896  0.73581386 -0.57014838 -0.49003578]\n",
      " [-0.10752075  0.10180281 -0.02126161  0.13847073 -0.28506328]\n",
      " [-0.1340488  -0.69785177 -0.71455225  0.43167765  0.77509906]]\n",
      "confusion_matrix of dataframe_3 is [[  0   0   0]\n",
      " [ 13 303   4]\n",
      " [  0   0   0]]\n",
      "\n",
      "Accuracy of dataframe_4 is 0.95\n",
      "log_reg.intercept_ of dataframe_4 is [-0.50895259  2.99757316 -2.48862057]\n",
      "log_reg.coef_ of dataframe_4 is [[ 0.17539766  0.65528058  0.6761896  -0.63729302 -0.42531688]\n",
      " [-0.12455572  0.12374875 -0.0428939   0.1633777  -0.26839581]\n",
      " [-0.05084194 -0.77902933 -0.63329569  0.47391532  0.6937127 ]]\n",
      "confusion_matrix of dataframe_4 is [[  0   0   0]\n",
      " [ 11 304   5]\n",
      " [  0   0   0]]\n",
      "\n"
     ]
    }
   ],
   "source": [
    "for i in range(len(df_list)):\n",
    "    X, y = get_dataset(df_list[i])\n",
    "    X_train, X_test, y_train, y_test = train_test_split(X, y, test_size = 0.2, random_state = 42)\n",
    "    log_reg = LogisticRegression(C=1.0, class_weight=None, dual=False, fit_intercept=True,\n",
    "                   intercept_scaling=1, l1_ratio=None, max_iter=100,\n",
    "                   multi_class='auto', n_jobs=None, penalty='l2',\n",
    "                   random_state=None, solver='lbfgs', tol=0.0001, verbose=0,\n",
    "                   warm_start=False)\n",
    "    log_reg.fit(X_train,y_train)\n",
    "    y_hat = log_reg.predict(X_test)\n",
    "    accuracy = metrics.accuracy_score(y_hat,y_test)\n",
    "    cm = confusion_matrix(y_hat,y_test)\n",
    "    print(f'Accuracy of dataframe_{i+1} is {accuracy}')\n",
    "    print(f'log_reg.intercept_ of dataframe_{i+1} is {log_reg.intercept_}')\n",
    "    print(f'log_reg.coef_ of dataframe_{i+1} is {log_reg.coef_}')\n",
    "    print(f'confusion_matrix of dataframe_{i+1} is {cm}\\n')\n",
    "    "
   ]
  },
  {
   "cell_type": "markdown",
   "metadata": {},
   "source": [
    "### The best result we get with dataframe_4, but in this project we will work with dataframe_1"
   ]
  },
  {
   "cell_type": "markdown",
   "metadata": {},
   "source": [
    "### Changing Hyperparameters"
   ]
  },
  {
   "cell_type": "code",
   "execution_count": 7,
   "metadata": {},
   "outputs": [],
   "source": [
    "for i in range(len(df_list)):\n",
    "    X, y = get_dataset(df_list[i])\n",
    "    X_train, X_test, y_train, y_test = train_test_split(X, y, test_size = 0.2, random_state = 42)\n",
    "    log_reg = LogisticRegression(C=1.0, class_weight=None, dual=False, fit_intercept=True,\n",
    "                   intercept_scaling=1, l1_ratio=None, max_iter=100,\n",
    "                   multi_class='auto', n_jobs=None, penalty='l2',\n",
    "                   random_state=None, solver='lbfgs', tol=0.0001, verbose=0,\n",
    "                   warm_start=False)"
   ]
  },
  {
   "cell_type": "code",
   "execution_count": 8,
   "metadata": {},
   "outputs": [
    {
     "name": "stdout",
     "output_type": "stream",
     "text": [
      "Accuracy of dataframe_1 is 0.65\n",
      "log_reg.intercept_ of dataframe_1 is [0.]\n",
      "log_reg.coef_ of dataframe_1 is [[ 0.06233118 -0.16528957 -0.16146804  0.239474    0.63902458]]\n",
      "confusion_matrix of dataframe_1 is [[165   1]\n",
      " [111  43]]\n",
      "\n",
      "Accuracy of dataframe_2 is 0.684375\n",
      "log_reg.intercept_ of dataframe_2 is [0.]\n",
      "log_reg.coef_ of dataframe_2 is [[ 0.05189515 -0.17025021 -0.17638801  0.22316571  0.60485258]]\n",
      "confusion_matrix of dataframe_2 is [[173   1]\n",
      " [100  46]]\n",
      "\n",
      "Accuracy of dataframe_3 is 0.35625\n",
      "log_reg.intercept_ of dataframe_3 is [0. 0. 0.]\n",
      "log_reg.coef_ of dataframe_3 is [[ 0.03327981  0.04339266  0.06841102 -0.05203159 -0.01082678]\n",
      " [-0.02379852 -0.01361789 -0.02002916  0.03979292 -0.04820814]\n",
      " [-0.00948129 -0.02977477 -0.04838186  0.01223867  0.05903492]]\n",
      "confusion_matrix of dataframe_3 is [[ 11  92   0]\n",
      " [  1  99   0]\n",
      " [  1 112   4]]\n",
      "\n",
      "Accuracy of dataframe_4 is 0.290625\n",
      "log_reg.intercept_ of dataframe_4 is [0. 0. 0.]\n",
      "log_reg.coef_ of dataframe_4 is [[ 0.01627948  0.04600722  0.05935934 -0.06248305 -0.01153695]\n",
      " [ 0.00215587 -0.01056728 -0.00866663  0.05113849 -0.03427993]\n",
      " [-0.01843535 -0.03543994 -0.05069272  0.01134457  0.04581687]]\n",
      "confusion_matrix of dataframe_4 is [[ 10 122   0]\n",
      " [  0  78   0]\n",
      " [  1 104   5]]\n",
      "\n"
     ]
    }
   ],
   "source": [
    "for i in range(len(df_list)):\n",
    "    X, y = get_dataset(df_list[i])\n",
    "    X_train, X_test, y_train, y_test = train_test_split(X, y, test_size = 0.2, random_state = 42)\n",
    "    log_reg = LogisticRegression(C=1.0, class_weight=None, dual=False, fit_intercept=False,\n",
    "                   intercept_scaling=1, l1_ratio=None, max_iter=200,\n",
    "                   multi_class='auto', n_jobs=None, #penalty='l2',\n",
    "                   random_state=None, solver='lbfgs', tol=0.0001, verbose=0,\n",
    "                   warm_start=False)\n",
    "    log_reg.fit(X_train,y_train)\n",
    "    y_hat = log_reg.predict(X_test)\n",
    "    accuracy = metrics.accuracy_score(y_hat,y_test)\n",
    "    cm = confusion_matrix(y_hat,y_test)\n",
    "    print(f'Accuracy of dataframe_{i+1} is {accuracy}')\n",
    "    print(f'log_reg.intercept_ of dataframe_{i+1} is {log_reg.intercept_}')\n",
    "    print(f'log_reg.coef_ of dataframe_{i+1} is {log_reg.coef_}')\n",
    "    print(f'confusion_matrix of dataframe_{i+1} is {cm}\\n')\n"
   ]
  },
  {
   "cell_type": "code",
   "execution_count": null,
   "metadata": {},
   "outputs": [],
   "source": []
  },
  {
   "cell_type": "markdown",
   "metadata": {},
   "source": [
    "### We can see that changing Hyperparameters not a good idea"
   ]
  },
  {
   "cell_type": "markdown",
   "metadata": {},
   "source": [
    "## Red wine\n",
    "### let's choose the features that had correlation to our target varaible: total_acidity, pH, chlorides, sulfates, alcohol"
   ]
  },
  {
   "cell_type": "code",
   "execution_count": 9,
   "metadata": {},
   "outputs": [],
   "source": [
    "df_red = dataframe_1[dataframe_1[\"type\"]==\"red\"]\n",
    "df_red_final = df_red[[\"total_acidity\", \"chlorides\", \"pH\", \"sulphates\", \"alcohol\", \"quality\"]]"
   ]
  },
  {
   "cell_type": "code",
   "execution_count": 10,
   "metadata": {},
   "outputs": [
    {
     "data": {
      "text/plain": [
       "0    1382\n",
       "1     216\n",
       "Name: quality, dtype: int64"
      ]
     },
     "execution_count": 10,
     "metadata": {},
     "output_type": "execute_result"
    }
   ],
   "source": [
    "df_red.quality.value_counts()"
   ]
  },
  {
   "cell_type": "code",
   "execution_count": 11,
   "metadata": {},
   "outputs": [
    {
     "data": {
      "text/plain": [
       "<AxesSubplot:xlabel='quality', ylabel='count'>"
      ]
     },
     "execution_count": 11,
     "metadata": {},
     "output_type": "execute_result"
    },
    {
     "data": {
      "image/png": "[encoded data removed]",
      "text/plain": [
       "<Figure size 432x288 with 1 Axes>"
      ]
     },
     "metadata": {
      "needs_background": "light"
     },
     "output_type": "display_data"
    }
   ],
   "source": [
    "sns.countplot(df_red['quality'])"
   ]
  },
  {
   "cell_type": "code",
   "execution_count": 12,
   "metadata": {},
   "outputs": [],
   "source": [
    "def get_dataset(dataframe):\n",
    "    X = dataframe.drop(\"quality\", axis = 1)\n",
    "    y = dataframe[\"quality\"]\n",
    "    X = StandardScaler().fit_transform(X)\n",
    "    return X, y"
   ]
  },
  {
   "cell_type": "code",
   "execution_count": 13,
   "metadata": {},
   "outputs": [],
   "source": [
    "X, y = get_dataset(df_red_final)"
   ]
  },
  {
   "cell_type": "code",
   "execution_count": 14,
   "metadata": {},
   "outputs": [],
   "source": [
    "#divide the dataset into train and test\n",
    "X_train, X_test, y_train, y_test = train_test_split(X, y, test_size = 0.2, random_state = 42)"
   ]
  },
  {
   "cell_type": "markdown",
   "metadata": {},
   "source": [
    "# 1. Logistic regression"
   ]
  },
  {
   "cell_type": "code",
   "execution_count": 15,
   "metadata": {},
   "outputs": [],
   "source": [
    "log_reg = LogisticRegression(C=1.0, class_weight=None, dual=False, fit_intercept=True,\n",
    "                   intercept_scaling=1, l1_ratio=None, max_iter=100,\n",
    "                   multi_class='auto', n_jobs=None, penalty='l2',\n",
    "                   random_state=None, solver='lbfgs', tol=0.0001, verbose=0,\n",
    "                   warm_start=False)"
   ]
  },
  {
   "cell_type": "code",
   "execution_count": 16,
   "metadata": {},
   "outputs": [
    {
     "data": {
      "text/plain": [
       "LogisticRegression()"
      ]
     },
     "execution_count": 16,
     "metadata": {},
     "output_type": "execute_result"
    }
   ],
   "source": [
    "log_reg.fit(X_train,y_train)"
   ]
  },
  {
   "cell_type": "markdown",
   "metadata": {},
   "source": [
    "### Let's predict target values for test dataset and check model accuracy"
   ]
  },
  {
   "cell_type": "code",
   "execution_count": 17,
   "metadata": {},
   "outputs": [],
   "source": [
    "y_hat = log_reg.predict(X_test)"
   ]
  },
  {
   "cell_type": "code",
   "execution_count": 18,
   "metadata": {},
   "outputs": [
    {
     "data": {
      "text/plain": [
       "0.859375"
      ]
     },
     "execution_count": 18,
     "metadata": {},
     "output_type": "execute_result"
    }
   ],
   "source": [
    "accuracy = metrics.accuracy_score(y_hat,y_test)\n",
    "accuracy"
   ]
  },
  {
   "cell_type": "code",
   "execution_count": 19,
   "metadata": {},
   "outputs": [
    {
     "data": {
      "text/plain": [
       "array([-2.53314634])"
      ]
     },
     "execution_count": 19,
     "metadata": {},
     "output_type": "execute_result"
    }
   ],
   "source": [
    "log_reg.intercept_"
   ]
  },
  {
   "cell_type": "code",
   "execution_count": 20,
   "metadata": {},
   "outputs": [
    {
     "data": {
      "text/plain": [
       "array([[ 0.23486527, -0.41247031, -0.19407309,  0.5040154 ,  1.22808026]])"
      ]
     },
     "execution_count": 20,
     "metadata": {},
     "output_type": "execute_result"
    }
   ],
   "source": [
    "log_reg.coef_"
   ]
  },
  {
   "cell_type": "code",
   "execution_count": 21,
   "metadata": {},
   "outputs": [
    {
     "data": {
      "text/plain": [
       "array([[267,  36],\n",
       "       [  9,   8]], dtype=int64)"
      ]
     },
     "execution_count": 21,
     "metadata": {},
     "output_type": "execute_result"
    }
   ],
   "source": [
    "cm = confusion_matrix(y_hat,y_test)\n",
    "cm"
   ]
  },
  {
   "cell_type": "markdown",
   "metadata": {},
   "source": [
    "## 2. Cross-validation - KFold"
   ]
  },
  {
   "cell_type": "code",
   "execution_count": 22,
   "metadata": {},
   "outputs": [
    {
     "name": "stdout",
     "output_type": "stream",
     "text": [
      "Ideal: 0.870\n"
     ]
    }
   ],
   "source": [
    "# create the dataset transformation function\n",
    "def fit_dataset(dataframe):\n",
    "    X = dataframe.drop('quality', axis=1)\n",
    "    y = dataframe['quality']\n",
    "    X = StandardScaler().fit_transform(X)\n",
    "    return X, y\n",
    "\n",
    "X, y = get_dataset(df_red_final)\n",
    "\n",
    "# retrieve the model to be evaluate\n",
    "def get_model():\n",
    "    model = LogisticRegression()\n",
    "    return model\n",
    "\n",
    "# evaluate the model using a given test condition\n",
    "def evaluate_model(cv):\n",
    "    # get the dataset\n",
    "    X, y = fit_dataset(df_red_final)\n",
    "    # get the model\n",
    "    model = get_model()\n",
    "    # evaluate the model\n",
    "    scores = cross_val_score(model, X, y, scoring='accuracy', cv=cv, n_jobs=-1)\n",
    "    # return scores\n",
    "    return mean(scores), scores.min(), scores.max()\n",
    "\n",
    "# calculate the ideal test condition\n",
    "ideal, _, _ = evaluate_model(LeaveOneOut())\n",
    "print('Ideal: %.3f' % ideal)"
   ]
  },
  {
   "cell_type": "code",
   "execution_count": 23,
   "metadata": {},
   "outputs": [
    {
     "name": "stdout",
     "output_type": "stream",
     "text": [
      "> folds=2, accuracy=0.872 (0.864,0.881)\n",
      "> folds=3, accuracy=0.871 (0.857,0.880)\n",
      "> folds=4, accuracy=0.870 (0.855,0.887)\n",
      "> folds=5, accuracy=0.871 (0.862,0.884)\n",
      "> folds=6, accuracy=0.871 (0.853,0.884)\n",
      "> folds=7, accuracy=0.871 (0.855,0.886)\n",
      "> folds=8, accuracy=0.871 (0.850,0.895)\n",
      "> folds=9, accuracy=0.869 (0.847,0.899)\n",
      "> folds=10, accuracy=0.870 (0.849,0.894)\n",
      "> folds=11, accuracy=0.870 (0.841,0.890)\n",
      "> folds=12, accuracy=0.870 (0.835,0.910)\n",
      "> folds=13, accuracy=0.870 (0.813,0.919)\n",
      "> folds=14, accuracy=0.870 (0.825,0.896)\n",
      "> folds=15, accuracy=0.870 (0.802,0.907)\n",
      "> folds=16, accuracy=0.870 (0.820,0.910)\n",
      "> folds=17, accuracy=0.870 (0.809,0.915)\n",
      "> folds=18, accuracy=0.869 (0.820,0.910)\n",
      "> folds=19, accuracy=0.870 (0.798,0.918)\n",
      "> folds=20, accuracy=0.869 (0.787,0.912)\n",
      "> folds=21, accuracy=0.870 (0.803,0.921)\n",
      "> folds=22, accuracy=0.870 (0.767,0.917)\n",
      "> folds=23, accuracy=0.869 (0.797,0.929)\n",
      "> folds=24, accuracy=0.869 (0.791,0.910)\n",
      "> folds=25, accuracy=0.870 (0.797,0.953)\n",
      "> folds=26, accuracy=0.868 (0.754,0.935)\n",
      "> folds=27, accuracy=0.868 (0.763,0.933)\n",
      "> folds=28, accuracy=0.869 (0.772,0.930)\n",
      "> folds=29, accuracy=0.869 (0.745,0.945)\n",
      "> folds=30, accuracy=0.869 (0.774,0.963)\n"
     ]
    }
   ],
   "source": [
    "# define folds to test\n",
    "folds = range(2,31)\n",
    "\n",
    "\n",
    "# record mean and min/max of each set of results\n",
    "means, mins, maxs = list(),list(),list()\n",
    "# evaluate each k value\n",
    "for k in folds:\n",
    "    # define the test condition\n",
    "    cv = KFold(n_splits=k, shuffle=True, random_state=1)\n",
    "    # evaluate k value\n",
    "    k_mean, k_min, k_max = evaluate_model(cv)\n",
    "    # report performance\n",
    "    print('> folds=%d, accuracy=%.3f (%.3f,%.3f)' % (k, k_mean, k_min, k_max))\n",
    "    # store mean accuracy\n",
    "    means.append(k_mean)\n",
    "    # store min and max relative to the mean\n",
    "    mins.append(k_mean - k_min)\n",
    "    maxs.append(k_max - k_mean)"
   ]
  },
  {
   "cell_type": "code",
   "execution_count": 24,
   "metadata": {},
   "outputs": [
    {
     "data": {
      "image/png": "[encoded data removed]",
      "text/plain": [
       "<Figure size 432x288 with 1 Axes>"
      ]
     },
     "metadata": {
      "needs_background": "light"
     },
     "output_type": "display_data"
    }
   ],
   "source": [
    "# line plot of k mean values with min/max error bars\n",
    "plt.errorbar(folds, means, yerr=[mins, maxs], fmt='o')\n",
    "# plot the ideal case in a separate color\n",
    "plt.plot(folds, [ideal for _ in range(len(folds))], color='r')\n",
    "# show the plot\n",
    "\n",
    "plt.show()"
   ]
  },
  {
   "cell_type": "markdown",
   "metadata": {},
   "source": [
    "## 3. RandomForestClassifier"
   ]
  },
  {
   "cell_type": "code",
   "execution_count": 25,
   "metadata": {},
   "outputs": [],
   "source": [
    "rf=RandomForestClassifier(bootstrap=True, ccp_alpha=0.0, class_weight=None,\n",
    "                       criterion='gini', max_depth=None, max_features='auto',\n",
    "                       max_leaf_nodes=None, max_samples=None,\n",
    "                       min_impurity_decrease=0.0, min_impurity_split=None,\n",
    "                       min_samples_leaf=1, min_samples_split=2,\n",
    "                       min_weight_fraction_leaf=0.0, n_estimators=100,\n",
    "                       n_jobs=None, oob_score=False, random_state=None,\n",
    "                       verbose=0, warm_start=False)"
   ]
  },
  {
   "cell_type": "code",
   "execution_count": 26,
   "metadata": {},
   "outputs": [
    {
     "data": {
      "text/plain": [
       "RandomForestClassifier()"
      ]
     },
     "execution_count": 26,
     "metadata": {},
     "output_type": "execute_result"
    }
   ],
   "source": [
    "rf.fit(X_train,y_train)"
   ]
  },
  {
   "cell_type": "code",
   "execution_count": 27,
   "metadata": {},
   "outputs": [],
   "source": [
    "y_pred=rf.predict(X_test)"
   ]
  },
  {
   "cell_type": "code",
   "execution_count": 35,
   "metadata": {},
   "outputs": [],
   "source": [
    "import pickle\n",
    "# save the model to disk\n",
    "filename = 'instance.json'\n",
    "pickle.dump(rf, open(filename, 'wb'))"
   ]
  },
  {
   "cell_type": "code",
   "execution_count": null,
   "metadata": {},
   "outputs": [],
   "source": [
    "print(classification_report(y_test, y_pred))"
   ]
  },
  {
   "cell_type": "code",
   "execution_count": null,
   "metadata": {},
   "outputs": [],
   "source": [
    "accuracy2 = metrics.accuracy_score(y_pred, y_test)\n",
    "accuracy2"
   ]
  },
  {
   "cell_type": "code",
   "execution_count": 52,
   "metadata": {},
   "outputs": [
    {
     "data": {
      "text/plain": [
       "array([[267,  23],\n",
       "       [  9,  21]], dtype=int64)"
      ]
     },
     "execution_count": 52,
     "metadata": {},
     "output_type": "execute_result"
    }
   ],
   "source": [
    "cm2 = confusion_matrix(y_pred,y_test)\n",
    "cm2"
   ]
  },
  {
   "cell_type": "markdown",
   "metadata": {},
   "source": [
    "We got higher accuracy score in case of RandomForest model, so we will choose this model for predicting wine quality."
   ]
  },
  {
   "cell_type": "markdown",
   "metadata": {},
   "source": [
    "## Comparison of the results of several models"
   ]
  },
  {
   "cell_type": "code",
   "execution_count": 53,
   "metadata": {},
   "outputs": [
    {
     "name": "stdout",
     "output_type": "stream",
     "text": [
      ">LogisticRegression: ideal=0.870, cv=0.870\n",
      ">RidgeClassifier: ideal=0.865, cv=0.865\n",
      ">DecisionTreeClassifier: ideal=0.881, cv=0.880\n",
      ">ExtraTreeClassifier: ideal=0.881, cv=0.863\n",
      ">RandomForestClassifier: ideal=0.909, cv=0.910\n",
      "Correlation: 0.905\n"
     ]
    },
    {
     "data": {
      "image/png": "[encoded data removed]",
      "text/plain": [
       "<Figure size 432x288 with 1 Axes>"
      ]
     },
     "metadata": {
      "needs_background": "light"
     },
     "output_type": "display_data"
    }
   ],
   "source": [
    "# correlation between test harness and ideal test condition\n",
    "from numpy import mean\n",
    "from numpy import isnan\n",
    "from numpy import asarray\n",
    "from numpy import polyfit\n",
    "from scipy.stats import pearsonr\n",
    "from matplotlib import pyplot\n",
    "from sklearn.datasets import make_classification\n",
    "from sklearn.model_selection import KFold\n",
    "from sklearn.model_selection import LeaveOneOut\n",
    "from sklearn.model_selection import cross_val_score\n",
    "from sklearn.linear_model import LogisticRegression\n",
    "from sklearn.linear_model import RidgeClassifier\n",
    "from sklearn.linear_model import SGDClassifier\n",
    "from sklearn.linear_model import PassiveAggressiveClassifier\n",
    "from sklearn.neighbors import KNeighborsClassifier\n",
    "from sklearn.tree import DecisionTreeClassifier\n",
    "from sklearn.tree import ExtraTreeClassifier\n",
    "from sklearn.svm import LinearSVC\n",
    "from sklearn.svm import SVC\n",
    "from sklearn.naive_bayes import GaussianNB\n",
    "from sklearn.ensemble import AdaBoostClassifier\n",
    "from sklearn.ensemble import BaggingClassifier\n",
    "from sklearn.ensemble import RandomForestClassifier\n",
    "from sklearn.ensemble import ExtraTreesClassifier\n",
    "from sklearn.gaussian_process import GaussianProcessClassifier\n",
    "from sklearn.ensemble import GradientBoostingClassifier\n",
    "from sklearn.discriminant_analysis import LinearDiscriminantAnalysis\n",
    "from sklearn.discriminant_analysis import QuadraticDiscriminantAnalysis\n",
    " \n",
    "# create the dataset\n",
    "def fit_dataset(dataframe):\n",
    "    X = dataframe.drop('quality', axis=1)\n",
    "    y = dataframe['quality']\n",
    "    X = StandardScaler().fit_transform(X)\n",
    "    return X, y\n",
    "\n",
    "# get a list of models to evaluate\n",
    "def get_models():\n",
    "    models = list()\n",
    "    models.append(LogisticRegression())\n",
    "    models.append(RidgeClassifier())\n",
    "    models.append(DecisionTreeClassifier())\n",
    "    models.append(ExtraTreeClassifier())\n",
    "    models.append(RandomForestClassifier())\n",
    "    return models\n",
    " \n",
    "# evaluate the model using a given test condition\n",
    "def evaluate_model(cv, model):\n",
    "    # get the dataset\n",
    "    X, y = get_dataset(df_red_final)\n",
    "    # evaluate the model\n",
    "    scores = cross_val_score(model, X, y, scoring='accuracy', cv=cv, n_jobs=-1)\n",
    "    # return scores\n",
    "    return mean(scores)\n",
    " \n",
    "# define test conditions\n",
    "ideal_cv = LeaveOneOut()\n",
    "cv = KFold(n_splits=10, shuffle=True, random_state=1)\n",
    "# get the list of models to consider\n",
    "models = get_models()\n",
    "# collect results\n",
    "ideal_results, cv_results = list(), list()\n",
    "# evaluate each model\n",
    "for model in models:\n",
    "    # evaluate model using each test condition\n",
    "    cv_mean = evaluate_model(cv, model)\n",
    "    ideal_mean = evaluate_model(ideal_cv, model)\n",
    "    # check for invalid results\n",
    "    if isnan(cv_mean) or isnan(ideal_mean):\n",
    "        continue\n",
    "    # store results\n",
    "    cv_results.append(cv_mean)\n",
    "    ideal_results.append(ideal_mean)\n",
    "    # summarize progress\n",
    "    print('>%s: ideal=%.3f, cv=%.3f' % (type(model).__name__, ideal_mean, cv_mean))\n",
    "# calculate the correlation between each test condition\n",
    "corr, _ = pearsonr(cv_results, ideal_results)\n",
    "print('Correlation: %.3f' % corr)\n",
    "# scatter plot of results\n",
    "pyplot.scatter(cv_results, ideal_results)\n",
    "# plot the line of best fit\n",
    "coeff, bias = polyfit(cv_results, ideal_results, 1)\n",
    "line = coeff * asarray(cv_results) + bias\n",
    "pyplot.plot(cv_results, line, color='r')\n",
    "# label the plot\n",
    "pyplot.title('10-fold CV vs LOOCV Mean Accuracy')\n",
    "pyplot.xlabel('Mean Accuracy (10-fold CV)')\n",
    "pyplot.ylabel('Mean Accuracy (LOOCV)')\n",
    "# show the plot\n",
    "pyplot.show()"
   ]
  },
  {
   "cell_type": "markdown",
   "metadata": {},
   "source": [
    "### Here we also got higher accuracy score in case of RandomForest model, so we will choose this model for predicting wine quality."
   ]
  },
  {
   "cell_type": "code",
   "execution_count": null,
   "metadata": {},
   "outputs": [],
   "source": []
  }
 ],
 "metadata": {
  "kernelspec": {
   "display_name": "Python 3",
   "language": "python",
   "name": "python3"
  },
  "language_info": {
   "codemirror_mode": {
    "name": "ipython",
    "version": 3
   },
   "file_extension": ".py",
   "mimetype": "text/x-python",
   "name": "python",
   "nbconvert_exporter": "python",
   "pygments_lexer": "ipython3",
   "version": "3.8.5"
  }
 },
 "nbformat": 4,
 "nbformat_minor": 4
}
